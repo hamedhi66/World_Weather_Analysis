{
 "cells": [
  {
   "cell_type": "code",
   "execution_count": 1,
   "metadata": {},
   "outputs": [],
   "source": [
    "# Import the dependencies.\n",
    "\n",
    "import gmaps.datasets\n",
    "import matplotlib.pyplot as plt\n",
    "import numpy as np\n",
    "import pandas as pd\n",
    "import gmaps\n",
    "import requests\n",
    "# Import the API key.\n",
    "from config import g_key\n",
    "gmaps.configure(api_key=g_key)"
   ]
  },
  {
   "cell_type": "code",
   "execution_count": 2,
   "metadata": {},
   "outputs": [],
   "source": [
    "# Files to load\n",
    "vacation_data_to_load = \"weather_data/WeatherPy_vacation.csv\""
   ]
  },
  {
   "cell_type": "code",
   "execution_count": 3,
   "metadata": {},
   "outputs": [
    {
     "data": {
      "text/html": [
       "<div>\n",
       "<style scoped>\n",
       "    .dataframe tbody tr th:only-of-type {\n",
       "        vertical-align: middle;\n",
       "    }\n",
       "\n",
       "    .dataframe tbody tr th {\n",
       "        vertical-align: top;\n",
       "    }\n",
       "\n",
       "    .dataframe thead th {\n",
       "        text-align: right;\n",
       "    }\n",
       "</style>\n",
       "<table border=\"1\" class=\"dataframe\">\n",
       "  <thead>\n",
       "    <tr style=\"text-align: right;\">\n",
       "      <th></th>\n",
       "      <th>City_ID</th>\n",
       "      <th>City</th>\n",
       "      <th>Country</th>\n",
       "      <th>Max Temp</th>\n",
       "      <th>Lat</th>\n",
       "      <th>Lng</th>\n",
       "      <th>Hotel Name</th>\n",
       "    </tr>\n",
       "  </thead>\n",
       "  <tbody>\n",
       "    <tr>\n",
       "      <th>0</th>\n",
       "      <td>1</td>\n",
       "      <td>Padang</td>\n",
       "      <td>ID</td>\n",
       "      <td>65.68</td>\n",
       "      <td>-0.92</td>\n",
       "      <td>100.36</td>\n",
       "      <td>Mercure Padang</td>\n",
       "    </tr>\n",
       "    <tr>\n",
       "      <th>1</th>\n",
       "      <td>2</td>\n",
       "      <td>Chuy</td>\n",
       "      <td>UY</td>\n",
       "      <td>65.05</td>\n",
       "      <td>-33.69</td>\n",
       "      <td>-53.46</td>\n",
       "      <td>Nuevo Hotel Plaza</td>\n",
       "    </tr>\n",
       "    <tr>\n",
       "      <th>2</th>\n",
       "      <td>5</td>\n",
       "      <td>Vallenar</td>\n",
       "      <td>CL</td>\n",
       "      <td>68.27</td>\n",
       "      <td>-28.58</td>\n",
       "      <td>-70.76</td>\n",
       "      <td>Humacao Bed &amp; Breakfast</td>\n",
       "    </tr>\n",
       "    <tr>\n",
       "      <th>3</th>\n",
       "      <td>6</td>\n",
       "      <td>Jalu</td>\n",
       "      <td>LY</td>\n",
       "      <td>70.48</td>\n",
       "      <td>29.03</td>\n",
       "      <td>21.55</td>\n",
       "      <td>Jalu Hotel</td>\n",
       "    </tr>\n",
       "    <tr>\n",
       "      <th>4</th>\n",
       "      <td>7</td>\n",
       "      <td>Vaini</td>\n",
       "      <td>IN</td>\n",
       "      <td>67.01</td>\n",
       "      <td>15.34</td>\n",
       "      <td>74.49</td>\n",
       "      <td>Dandeli Lake County</td>\n",
       "    </tr>\n",
       "  </tbody>\n",
       "</table>\n",
       "</div>"
      ],
      "text/plain": [
       "   City_ID      City Country  Max Temp    Lat     Lng               Hotel Name\n",
       "0        1    Padang      ID     65.68  -0.92  100.36           Mercure Padang\n",
       "1        2      Chuy      UY     65.05 -33.69  -53.46        Nuevo Hotel Plaza\n",
       "2        5  Vallenar      CL     68.27 -28.58  -70.76  Humacao Bed & Breakfast\n",
       "3        6      Jalu      LY     70.48  29.03   21.55               Jalu Hotel\n",
       "4        7     Vaini      IN     67.01  15.34   74.49      Dandeli Lake County"
      ]
     },
     "execution_count": 3,
     "metadata": {},
     "output_type": "execute_result"
    }
   ],
   "source": [
    "# Read the school data file and store it in a Pandas DataFrame.\n",
    "vacation_data_df = pd.read_csv(vacation_data_to_load)\n",
    "vacation_data_df.head()"
   ]
  },
  {
   "cell_type": "code",
   "execution_count": 4,
   "metadata": {},
   "outputs": [
    {
     "data": {
      "text/html": [
       "<div>\n",
       "<style scoped>\n",
       "    .dataframe tbody tr th:only-of-type {\n",
       "        vertical-align: middle;\n",
       "    }\n",
       "\n",
       "    .dataframe tbody tr th {\n",
       "        vertical-align: top;\n",
       "    }\n",
       "\n",
       "    .dataframe thead th {\n",
       "        text-align: right;\n",
       "    }\n",
       "</style>\n",
       "<table border=\"1\" class=\"dataframe\">\n",
       "  <thead>\n",
       "    <tr style=\"text-align: right;\">\n",
       "      <th></th>\n",
       "      <th>City_ID</th>\n",
       "      <th>City</th>\n",
       "      <th>Country</th>\n",
       "      <th>Max Temp</th>\n",
       "      <th>Lat</th>\n",
       "      <th>Lng</th>\n",
       "      <th>Hotel Name</th>\n",
       "    </tr>\n",
       "  </thead>\n",
       "  <tbody>\n",
       "    <tr>\n",
       "      <th>42</th>\n",
       "      <td>69</td>\n",
       "      <td>Lompoc</td>\n",
       "      <td>US</td>\n",
       "      <td>80.01</td>\n",
       "      <td>34.64</td>\n",
       "      <td>-120.46</td>\n",
       "      <td>Holiday Inn Express Lompoc</td>\n",
       "    </tr>\n",
       "    <tr>\n",
       "      <th>70</th>\n",
       "      <td>118</td>\n",
       "      <td>Pacific Grove</td>\n",
       "      <td>US</td>\n",
       "      <td>75.99</td>\n",
       "      <td>36.62</td>\n",
       "      <td>-121.92</td>\n",
       "      <td>Lovers Point Inn</td>\n",
       "    </tr>\n",
       "    <tr>\n",
       "      <th>224</th>\n",
       "      <td>424</td>\n",
       "      <td>Pacifica</td>\n",
       "      <td>US</td>\n",
       "      <td>75.00</td>\n",
       "      <td>37.61</td>\n",
       "      <td>-122.49</td>\n",
       "      <td>Lighthouse Hotel</td>\n",
       "    </tr>\n",
       "    <tr>\n",
       "      <th>260</th>\n",
       "      <td>484</td>\n",
       "      <td>Half Moon Bay</td>\n",
       "      <td>US</td>\n",
       "      <td>75.00</td>\n",
       "      <td>37.46</td>\n",
       "      <td>-122.43</td>\n",
       "      <td>The Ritz-Carlton, Half Moon Bay</td>\n",
       "    </tr>\n",
       "  </tbody>\n",
       "</table>\n",
       "</div>"
      ],
      "text/plain": [
       "     City_ID           City Country  Max Temp    Lat     Lng  \\\n",
       "42        69         Lompoc      US     80.01  34.64 -120.46   \n",
       "70       118  Pacific Grove      US     75.99  36.62 -121.92   \n",
       "224      424       Pacifica      US     75.00  37.61 -122.49   \n",
       "260      484  Half Moon Bay      US     75.00  37.46 -122.43   \n",
       "\n",
       "                          Hotel Name  \n",
       "42        Holiday Inn Express Lompoc  \n",
       "70                  Lovers Point Inn  \n",
       "224                 Lighthouse Hotel  \n",
       "260  The Ritz-Carlton, Half Moon Bay  "
      ]
     },
     "execution_count": 4,
     "metadata": {},
     "output_type": "execute_result"
    }
   ],
   "source": [
    "vacation_data_df_filter= vacation_data_df.loc[vacation_data_df['City'].isin([\"Pacific Grove\",\"Half Moon Bay\",\"Lompoc\",\"Pacifica\"])]\n",
    "vacation_data_df_filter"
   ]
  },
  {
   "cell_type": "code",
   "execution_count": 5,
   "metadata": {},
   "outputs": [
    {
     "data": {
      "application/vnd.jupyter.widget-view+json": {
       "model_id": "2a2b00181a5a43329ed11ec230eb2066",
       "version_major": 2,
       "version_minor": 0
      },
      "text/plain": [
       "Figure(layout=FigureLayout(height='420px'))"
      ]
     },
     "metadata": {},
     "output_type": "display_data"
    }
   ],
   "source": [
    "# Latitude-longitude pairs\n",
    "Pacific_Grove = (36.62, -121.92)\n",
    "Half_Moon_Bay = (37.46, -122.43)\n",
    "Pacifica = (37.61, -122.49)\n",
    "Lompoc=(34.64,-120.46)\n",
    "\n",
    "fig = gmaps.figure()\n",
    "Lompoc2Pacifica = gmaps.directions_layer(Lompoc,Pacifica)\n",
    "fig.add_layer(Lompoc2Pacifica)\n",
    "fig"
   ]
  },
  {
   "cell_type": "code",
   "execution_count": 15,
   "metadata": {},
   "outputs": [
    {
     "data": {
      "application/vnd.jupyter.widget-view+json": {
       "model_id": "43b8c860eecb4a3aab09d248987fa69a",
       "version_major": 2,
       "version_minor": 0
      },
      "text/plain": [
       "Figure(layout=FigureLayout(height='420px'))"
      ]
     },
     "metadata": {},
     "output_type": "display_data"
    }
   ],
   "source": [
    "fig = gmaps.figure()\n",
    "Lompoc2Pacifica_via_Pacific_Grove_Half_Moon_Bay = gmaps.directions_layer(\n",
    "        Lompoc, Pacifica, waypoints=[Pacific_Grove , Half_Moon_Bay],\n",
    "        travel_mode='DRIVING')\n",
    "fig.add_layer(Lompoc2Pacifica_via_Pacific_Grove_Half_Moon_Bay)\n",
    "fig"
   ]
  },
  {
   "cell_type": "code",
   "execution_count": 7,
   "metadata": {},
   "outputs": [
    {
     "data": {
      "text/html": [
       "<div>\n",
       "<style scoped>\n",
       "    .dataframe tbody tr th:only-of-type {\n",
       "        vertical-align: middle;\n",
       "    }\n",
       "\n",
       "    .dataframe tbody tr th {\n",
       "        vertical-align: top;\n",
       "    }\n",
       "\n",
       "    .dataframe thead th {\n",
       "        text-align: right;\n",
       "    }\n",
       "</style>\n",
       "<table border=\"1\" class=\"dataframe\">\n",
       "  <thead>\n",
       "    <tr style=\"text-align: right;\">\n",
       "      <th></th>\n",
       "      <th>City_ID</th>\n",
       "      <th>City</th>\n",
       "      <th>Country</th>\n",
       "      <th>Max Temp</th>\n",
       "      <th>Lat</th>\n",
       "      <th>Lng</th>\n",
       "      <th>Hotel Name</th>\n",
       "    </tr>\n",
       "  </thead>\n",
       "  <tbody>\n",
       "    <tr>\n",
       "      <th>42</th>\n",
       "      <td>69</td>\n",
       "      <td>Lompoc</td>\n",
       "      <td>US</td>\n",
       "      <td>80.01</td>\n",
       "      <td>34.64</td>\n",
       "      <td>-120.46</td>\n",
       "      <td>Holiday Inn Express Lompoc</td>\n",
       "    </tr>\n",
       "    <tr>\n",
       "      <th>70</th>\n",
       "      <td>118</td>\n",
       "      <td>Pacific Grove</td>\n",
       "      <td>US</td>\n",
       "      <td>75.99</td>\n",
       "      <td>36.62</td>\n",
       "      <td>-121.92</td>\n",
       "      <td>Lovers Point Inn</td>\n",
       "    </tr>\n",
       "    <tr>\n",
       "      <th>224</th>\n",
       "      <td>424</td>\n",
       "      <td>Pacifica</td>\n",
       "      <td>US</td>\n",
       "      <td>75.00</td>\n",
       "      <td>37.61</td>\n",
       "      <td>-122.49</td>\n",
       "      <td>Lighthouse Hotel</td>\n",
       "    </tr>\n",
       "    <tr>\n",
       "      <th>260</th>\n",
       "      <td>484</td>\n",
       "      <td>Half Moon Bay</td>\n",
       "      <td>US</td>\n",
       "      <td>75.00</td>\n",
       "      <td>37.46</td>\n",
       "      <td>-122.43</td>\n",
       "      <td>The Ritz-Carlton, Half Moon Bay</td>\n",
       "    </tr>\n",
       "  </tbody>\n",
       "</table>\n",
       "</div>"
      ],
      "text/plain": [
       "     City_ID           City Country  Max Temp    Lat     Lng  \\\n",
       "42        69         Lompoc      US     80.01  34.64 -120.46   \n",
       "70       118  Pacific Grove      US     75.99  36.62 -121.92   \n",
       "224      424       Pacifica      US     75.00  37.61 -122.49   \n",
       "260      484  Half Moon Bay      US     75.00  37.46 -122.43   \n",
       "\n",
       "                          Hotel Name  \n",
       "42        Holiday Inn Express Lompoc  \n",
       "70                  Lovers Point Inn  \n",
       "224                 Lighthouse Hotel  \n",
       "260  The Ritz-Carlton, Half Moon Bay  "
      ]
     },
     "execution_count": 7,
     "metadata": {},
     "output_type": "execute_result"
    }
   ],
   "source": [
    "vacation_data_df_filter"
   ]
  },
  {
   "cell_type": "code",
   "execution_count": 8,
   "metadata": {},
   "outputs": [],
   "source": [
    "# Set the parameters to search for a hotel in Paris.\n",
    "params = {\n",
    "    \"radius\": 5000,\n",
    "    \"types\": \"lodging\",\n",
    "    \"key\": g_key,\n",
    "    \"location\": \"48.8566, 2.3522\"}\n",
    "# Use base URL to search for hotels in Paris.\n",
    "base_url = \"https://maps.googleapis.com/maps/api/place/nearbysearch/json\"\n",
    "# Make request and get the JSON data from the search.\n",
    "hotels = requests.get(base_url, params=params).json()\n"
   ]
  },
  {
   "cell_type": "code",
   "execution_count": 9,
   "metadata": {},
   "outputs": [
    {
     "data": {
      "text/html": [
       "<div>\n",
       "<style scoped>\n",
       "    .dataframe tbody tr th:only-of-type {\n",
       "        vertical-align: middle;\n",
       "    }\n",
       "\n",
       "    .dataframe tbody tr th {\n",
       "        vertical-align: top;\n",
       "    }\n",
       "\n",
       "    .dataframe thead th {\n",
       "        text-align: right;\n",
       "    }\n",
       "</style>\n",
       "<table border=\"1\" class=\"dataframe\">\n",
       "  <thead>\n",
       "    <tr style=\"text-align: right;\">\n",
       "      <th></th>\n",
       "      <th>City</th>\n",
       "      <th>Country</th>\n",
       "      <th>Max Temp</th>\n",
       "      <th>Lat</th>\n",
       "      <th>Lng</th>\n",
       "      <th>Hotel Name</th>\n",
       "    </tr>\n",
       "  </thead>\n",
       "  <tbody>\n",
       "    <tr>\n",
       "      <th>42</th>\n",
       "      <td>Lompoc</td>\n",
       "      <td>US</td>\n",
       "      <td>80.01</td>\n",
       "      <td>34.64</td>\n",
       "      <td>-120.46</td>\n",
       "      <td></td>\n",
       "    </tr>\n",
       "    <tr>\n",
       "      <th>70</th>\n",
       "      <td>Pacific Grove</td>\n",
       "      <td>US</td>\n",
       "      <td>75.99</td>\n",
       "      <td>36.62</td>\n",
       "      <td>-121.92</td>\n",
       "      <td></td>\n",
       "    </tr>\n",
       "    <tr>\n",
       "      <th>224</th>\n",
       "      <td>Pacifica</td>\n",
       "      <td>US</td>\n",
       "      <td>75.00</td>\n",
       "      <td>37.61</td>\n",
       "      <td>-122.49</td>\n",
       "      <td></td>\n",
       "    </tr>\n",
       "    <tr>\n",
       "      <th>260</th>\n",
       "      <td>Half Moon Bay</td>\n",
       "      <td>US</td>\n",
       "      <td>75.00</td>\n",
       "      <td>37.46</td>\n",
       "      <td>-122.43</td>\n",
       "      <td></td>\n",
       "    </tr>\n",
       "  </tbody>\n",
       "</table>\n",
       "</div>"
      ],
      "text/plain": [
       "              City Country  Max Temp    Lat     Lng Hotel Name\n",
       "42          Lompoc      US     80.01  34.64 -120.46           \n",
       "70   Pacific Grove      US     75.99  36.62 -121.92           \n",
       "224       Pacifica      US     75.00  37.61 -122.49           \n",
       "260  Half Moon Bay      US     75.00  37.46 -122.43           "
      ]
     },
     "execution_count": 9,
     "metadata": {},
     "output_type": "execute_result"
    }
   ],
   "source": [
    "# Create DataFrame called hotel_df to store hotel names along with city, country, max temp, and coordinates.\n",
    "hotel_df = vacation_data_df_filter[[\"City\", \"Country\", \"Max Temp\", \"Lat\", \"Lng\"]].copy()\n",
    "hotel_df[\"Hotel Name\"] = \"\"\n",
    "hotel_df"
   ]
  },
  {
   "cell_type": "code",
   "execution_count": 10,
   "metadata": {},
   "outputs": [],
   "source": [
    "# Iterate through the DataFrame.\n",
    "for index, row in hotel_df.iterrows():\n",
    "    # Get the latitude and longitude.\n",
    "    lat = row[\"Lat\"]\n",
    "    lng = row[\"Lng\"]\n",
    "\n",
    "    # Add the latitude and longitude to the params dictionary as values to\n",
    "      #the location key.\n",
    "    params[\"location\"] = f\"{lat},{lng}\"\n",
    "\n",
    "    # Use the search term: \"lodging\" and our latitude and longitude.\n",
    "    base_url = \"https://maps.googleapis.com/maps/api/place/nearbysearch/json\"\n",
    "    # Make request and get the JSON data from the search.\n",
    "    hotels = requests.get(base_url, params=params).json()\n",
    "# Grab the first hotel from the results and store the name.\n",
    "    try:\n",
    "        hotel_df.loc[index, \"Hotel Name\"] = hotels[\"results\"][0][\"name\"]\n",
    "    except (IndexError):\n",
    "        print(\"Hotel not found... skipping.\")"
   ]
  },
  {
   "cell_type": "code",
   "execution_count": 11,
   "metadata": {},
   "outputs": [],
   "source": [
    "info_box_template = \"\"\"\n",
    "<dl>\n",
    "<dt>Hotel Name</dt><dd>{Hotel Name}</dd>\n",
    "<dt>City</dt><dd>{City}</dd>\n",
    "<dt>Country</dt><dd>{Country}</dd>\n",
    "<dt>Max Temp</dt><dd>{Max Temp} °F</dd>\n",
    "</dl>\n",
    "\"\"\""
   ]
  },
  {
   "cell_type": "code",
   "execution_count": 12,
   "metadata": {},
   "outputs": [],
   "source": [
    "# Store the DataFrame Row.\n",
    "hotel_info = [info_box_template.format(**row) for index, row in hotel_df.iterrows()]"
   ]
  },
  {
   "cell_type": "code",
   "execution_count": 13,
   "metadata": {},
   "outputs": [
    {
     "data": {
      "text/html": [
       "<div>\n",
       "<style scoped>\n",
       "    .dataframe tbody tr th:only-of-type {\n",
       "        vertical-align: middle;\n",
       "    }\n",
       "\n",
       "    .dataframe tbody tr th {\n",
       "        vertical-align: top;\n",
       "    }\n",
       "\n",
       "    .dataframe thead th {\n",
       "        text-align: right;\n",
       "    }\n",
       "</style>\n",
       "<table border=\"1\" class=\"dataframe\">\n",
       "  <thead>\n",
       "    <tr style=\"text-align: right;\">\n",
       "      <th></th>\n",
       "      <th>City</th>\n",
       "      <th>Country</th>\n",
       "      <th>Max Temp</th>\n",
       "      <th>Lat</th>\n",
       "      <th>Lng</th>\n",
       "      <th>Hotel Name</th>\n",
       "    </tr>\n",
       "  </thead>\n",
       "  <tbody>\n",
       "    <tr>\n",
       "      <th>42</th>\n",
       "      <td>Lompoc</td>\n",
       "      <td>US</td>\n",
       "      <td>80.01</td>\n",
       "      <td>34.64</td>\n",
       "      <td>-120.46</td>\n",
       "      <td>Holiday Inn Express Lompoc</td>\n",
       "    </tr>\n",
       "    <tr>\n",
       "      <th>70</th>\n",
       "      <td>Pacific Grove</td>\n",
       "      <td>US</td>\n",
       "      <td>75.99</td>\n",
       "      <td>36.62</td>\n",
       "      <td>-121.92</td>\n",
       "      <td>Lovers Point Inn</td>\n",
       "    </tr>\n",
       "    <tr>\n",
       "      <th>224</th>\n",
       "      <td>Pacifica</td>\n",
       "      <td>US</td>\n",
       "      <td>75.00</td>\n",
       "      <td>37.61</td>\n",
       "      <td>-122.49</td>\n",
       "      <td>Lighthouse Hotel</td>\n",
       "    </tr>\n",
       "    <tr>\n",
       "      <th>260</th>\n",
       "      <td>Half Moon Bay</td>\n",
       "      <td>US</td>\n",
       "      <td>75.00</td>\n",
       "      <td>37.46</td>\n",
       "      <td>-122.43</td>\n",
       "      <td>The Ritz-Carlton, Half Moon Bay</td>\n",
       "    </tr>\n",
       "  </tbody>\n",
       "</table>\n",
       "</div>"
      ],
      "text/plain": [
       "              City Country  Max Temp    Lat     Lng  \\\n",
       "42          Lompoc      US     80.01  34.64 -120.46   \n",
       "70   Pacific Grove      US     75.99  36.62 -121.92   \n",
       "224       Pacifica      US     75.00  37.61 -122.49   \n",
       "260  Half Moon Bay      US     75.00  37.46 -122.43   \n",
       "\n",
       "                          Hotel Name  \n",
       "42        Holiday Inn Express Lompoc  \n",
       "70                  Lovers Point Inn  \n",
       "224                 Lighthouse Hotel  \n",
       "260  The Ritz-Carlton, Half Moon Bay  "
      ]
     },
     "execution_count": 13,
     "metadata": {},
     "output_type": "execute_result"
    }
   ],
   "source": [
    "hotel_df"
   ]
  },
  {
   "cell_type": "code",
   "execution_count": 51,
   "metadata": {},
   "outputs": [
    {
     "data": {
      "application/vnd.jupyter.widget-view+json": {
       "model_id": "d21cf9e9f78b41e6b7d3862bc1deae40",
       "version_major": 2,
       "version_minor": 0
      },
      "text/plain": [
       "Figure(layout=FigureLayout(height='420px'))"
      ]
     },
     "metadata": {},
     "output_type": "display_data"
    },
    {
     "data": {
      "text/plain": [
       "<Figure size 432x288 with 0 Axes>"
      ]
     },
     "metadata": {},
     "output_type": "display_data"
    }
   ],
   "source": [
    "\n",
    "locations = hotel_df [[\"Lat\", \"Lng\"]]\n",
    "cities = hotel_df[\"City\"]\n",
    "fig = gmaps.figure(center=(36.5, -121.0), zoom_level=6.5)\n",
    "#heat_layer = gmaps.heatmap_layer(locations, weights=max_temp, /\n",
    "#             dissipating=False, max_intensity=300, point_radius=4)\n",
    "marker_layer = gmaps.marker_layer(locations, info_box_content=hotel_info)\n",
    "#fig.add_layer(heat_layer)\n",
    "fig.add_layer(marker_layer)\n",
    "# Call the figure to plot the data.\n",
    "plt.savefig(\"WeatherPy_travel_map_markers.png\")\n",
    "fig"
   ]
  },
  {
   "cell_type": "code",
   "execution_count": null,
   "metadata": {},
   "outputs": [],
   "source": []
  }
 ],
 "metadata": {
  "kernelspec": {
   "display_name": "Python 3",
   "language": "python",
   "name": "python3"
  },
  "language_info": {
   "codemirror_mode": {
    "name": "ipython",
    "version": 3
   },
   "file_extension": ".py",
   "mimetype": "text/x-python",
   "name": "python",
   "nbconvert_exporter": "python",
   "pygments_lexer": "ipython3",
   "version": "3.6.9"
  }
 },
 "nbformat": 4,
 "nbformat_minor": 2
}
